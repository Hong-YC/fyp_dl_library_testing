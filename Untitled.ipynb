{
 "cells": [
  {
   "cell_type": "code",
   "execution_count": 120,
   "id": "c8fa8910",
   "metadata": {},
   "outputs": [
    {
     "name": "stdout",
     "output_type": "stream",
     "text": [
      "00_input_object: (None, 21, 21, 40)\n",
      "01_LeakyReLU: (None, 21, 21, 40)\n",
      "02_Flatten: (None, 17640)\n",
      "03_Linear: (None, 12)\n",
      "04_reshape: (None, 3, 4)\n"
     ]
    }
   ],
   "source": [
    "%run ./experiment.py"
   ]
  },
  {
   "cell_type": "code",
   "execution_count": 121,
   "id": "44fbd7d1",
   "metadata": {},
   "outputs": [],
   "source": [
    "%run ./pytorch_generation.py"
   ]
  },
  {
   "cell_type": "code",
   "execution_count": 122,
   "id": "4640d98e",
   "metadata": {},
   "outputs": [],
   "source": [
    "import torch\n",
    "import onnx\n",
    "import onnxruntime\n",
    "import numpy as np\n",
    "from torchsummary import summary\n",
    "from src.cases_generation.torch_model import TorchModel\n",
    "import json"
   ]
  },
  {
   "cell_type": "code",
   "execution_count": 123,
   "id": "60b6a5bc",
   "metadata": {},
   "outputs": [
    {
     "name": "stdout",
     "output_type": "stream",
     "text": [
      "TorchModel(\n",
      "  (torch_nn_layers): ModuleDict(\n",
      "    (1): LeakyReLU(negative_slope=1.0555515950023602)\n",
      "    (2): Flatten(start_dim=1, end_dim=-1)\n",
      "    (3): Linear(in_features=17640, out_features=12, bias=True)\n",
      "  )\n",
      ")\n",
      "{'model_structure': {'0': {'type': 'input_object', 'args': {'shape': [21, 21, 40], 'batch_shape': None, 'name': '00_input_object'}, 'pre_layers': [], 'output_shape': [None, 21, 21, 40]}, '1': {'type': 'LeakyReLU', 'args': {'negative_slope': 1.0555515950023602, 'inplace': False, 'name': '01_LeakyReLU'}, 'pre_layers': ['0'], 'output_shape': [None, 21, 21, 40]}, '2': {'type': 'Flatten', 'args': {'start_dim': 1, 'end_dim': -1, 'name': '02_Flatten'}, 'pre_layers': ['1'], 'output_shape': [None, 17640]}, '3': {'type': 'Linear', 'args': {'in_features': 17640, 'out_features': 12, 'bias': True, 'name': '03_Linear'}, 'pre_layers': ['2'], 'output_shape': [None, 12]}, '4': {'type': 'reshape', 'args': {'shape': [-1, 3, 4], 'name': '04_reshape'}, 'pre_layers': ['3'], 'output_shape': [None, 3, 4]}}, 'input_id_list': ['0'], 'output_id_list': ['4']}\n",
      "[1, 21, 21, 40]\n",
      "LeakyReLU\n"
     ]
    }
   ],
   "source": [
    "pair={}\n",
    "pair['Conv2d']='Conv'\n",
    "pair['ReLU']='Relu'\n",
    "pair['Linear']='Gemm'\n",
    "pair['Softmax']='Softmax'\n",
    "pair['Flatten']='Flatten'\n",
    "pair['reshape']='Reshape'\n",
    "pair['LeakyReLU']='LeakyRelu'\n",
    "\n",
    "with open('models/dummy_model.json', 'r') as f:\n",
    "    model_info = json.load(f)\n",
    "model_py=TorchModel(model_info)\n",
    "model_py.load_state_dict(torch.load(\"models/torch.pt\"))\n",
    "print(model_py)\n",
    "print(model_info)\n",
    "s=model_info['model_structure']['0']['args']['shape']\n",
    "s.insert(0, 1)\n",
    "print(s)\n",
    "print(model_info['model_structure']['1']['type'])"
   ]
  },
  {
   "cell_type": "code",
   "execution_count": 109,
   "id": "bd708d65",
   "metadata": {},
   "outputs": [],
   "source": [
    "dummy_input = torch.ones(s)\n",
    "model_onnx_path = \"models/model.onnx\"\n",
    "torch.onnx.export(\n",
    "    model_py, dummy_input, model_onnx_path,\n",
    "    export_params=True,\n",
    "    opset_version=11\n",
    " # We define axes as dynamic to allow batch_size > 1\n",
    ")"
   ]
  },
  {
   "cell_type": "code",
   "execution_count": 110,
   "id": "d7117a29",
   "metadata": {},
   "outputs": [],
   "source": [
    "def extract_inter_output_pytorch(model,input):\n",
    "    # a helper function of forward hook in PyTorch\n",
    "    def get_activation_py(name):\n",
    "        def hook(model, input, output):\n",
    "            activation[name] = output.detach()\n",
    "        return hook\n",
    "\n",
    "    activation = {}\n",
    "    i=0\n",
    "    for name, module in model.named_modules():\n",
    "        if i==0:\n",
    "            i+=1\n",
    "            continue\n",
    "        module.register_forward_hook(get_activation_py(str(name)))\n",
    "        output = model(input)\n",
    "        i+=1\n",
    "    return activation\n",
    "\n",
    "def extract_inter_output_onnx(model,input):\n",
    "    modelse=model\n",
    "    for node in modelse.graph.node:\n",
    "        for output in node.output:\n",
    "            modelse.graph.output.extend([onnx.ValueInfoProto(name=output)])\n",
    "\n",
    "    modelse = modelse.SerializeToString()\n",
    "    session = onnxruntime.InferenceSession(modelse)\n",
    "    outputs = [x.name for x in session.get_outputs()]\n",
    "    input_name = session.get_inputs()[0].name\n",
    "    outs = session.run(outputs, {input_name:input})\n",
    "    outs = collections.OrderedDict(zip(outputs, outs))\n",
    "    return outs"
   ]
  },
  {
   "cell_type": "code",
   "execution_count": 111,
   "id": "0506273f",
   "metadata": {},
   "outputs": [
    {
     "name": "stdout",
     "output_type": "stream",
     "text": [
      "{'torch_nn_layers.1': tensor([[[[1., 1., 1.,  ..., 1., 1., 1.],\n",
      "          [1., 1., 1.,  ..., 1., 1., 1.],\n",
      "          [1., 1., 1.,  ..., 1., 1., 1.],\n",
      "          ...,\n",
      "          [1., 1., 1.,  ..., 1., 1., 1.],\n",
      "          [1., 1., 1.,  ..., 1., 1., 1.],\n",
      "          [1., 1., 1.,  ..., 1., 1., 1.]],\n",
      "\n",
      "         [[1., 1., 1.,  ..., 1., 1., 1.],\n",
      "          [1., 1., 1.,  ..., 1., 1., 1.],\n",
      "          [1., 1., 1.,  ..., 1., 1., 1.],\n",
      "          ...,\n",
      "          [1., 1., 1.,  ..., 1., 1., 1.],\n",
      "          [1., 1., 1.,  ..., 1., 1., 1.],\n",
      "          [1., 1., 1.,  ..., 1., 1., 1.]],\n",
      "\n",
      "         [[1., 1., 1.,  ..., 1., 1., 1.],\n",
      "          [1., 1., 1.,  ..., 1., 1., 1.],\n",
      "          [1., 1., 1.,  ..., 1., 1., 1.],\n",
      "          ...,\n",
      "          [1., 1., 1.,  ..., 1., 1., 1.],\n",
      "          [1., 1., 1.,  ..., 1., 1., 1.],\n",
      "          [1., 1., 1.,  ..., 1., 1., 1.]],\n",
      "\n",
      "         ...,\n",
      "\n",
      "         [[1., 1., 1.,  ..., 1., 1., 1.],\n",
      "          [1., 1., 1.,  ..., 1., 1., 1.],\n",
      "          [1., 1., 1.,  ..., 1., 1., 1.],\n",
      "          ...,\n",
      "          [1., 1., 1.,  ..., 1., 1., 1.],\n",
      "          [1., 1., 1.,  ..., 1., 1., 1.],\n",
      "          [1., 1., 1.,  ..., 1., 1., 1.]],\n",
      "\n",
      "         [[1., 1., 1.,  ..., 1., 1., 1.],\n",
      "          [1., 1., 1.,  ..., 1., 1., 1.],\n",
      "          [1., 1., 1.,  ..., 1., 1., 1.],\n",
      "          ...,\n",
      "          [1., 1., 1.,  ..., 1., 1., 1.],\n",
      "          [1., 1., 1.,  ..., 1., 1., 1.],\n",
      "          [1., 1., 1.,  ..., 1., 1., 1.]],\n",
      "\n",
      "         [[1., 1., 1.,  ..., 1., 1., 1.],\n",
      "          [1., 1., 1.,  ..., 1., 1., 1.],\n",
      "          [1., 1., 1.,  ..., 1., 1., 1.],\n",
      "          ...,\n",
      "          [1., 1., 1.,  ..., 1., 1., 1.],\n",
      "          [1., 1., 1.,  ..., 1., 1., 1.],\n",
      "          [1., 1., 1.,  ..., 1., 1., 1.]]]]), 'torch_nn_layers.2': tensor([[1., 1., 1.,  ..., 1., 1., 1.]]), 'torch_nn_layers.3': tensor([[ 0.1769, -0.0975,  0.6101, -0.0835,  0.0383,  1.3849, -0.4318,  0.3390,\n",
      "         -0.6456, -0.3124,  0.1243, -0.1752]])}\n",
      "1\n",
      "LeakyReLU\n",
      "2\n",
      "Flatten\n",
      "3\n",
      "Linear\n"
     ]
    }
   ],
   "source": [
    "output=extract_inter_output_pytorch(model_py,torch.ones(s))\n",
    "print(output)\n",
    "for name in output.keys() :\n",
    "    print(name[-1])\n",
    "    print(model_info['model_structure'][name[-1]]['type'])"
   ]
  },
  {
   "cell_type": "code",
   "execution_count": 112,
   "id": "006a8d77",
   "metadata": {},
   "outputs": [
    {
     "name": "stdout",
     "output_type": "stream",
     "text": [
      "[[ 0.17685644 -0.09747709  0.6100866  -0.08349238  0.03826992  1.3849063\n",
      "  -0.43178633  0.3390289  -0.64562696 -0.31241077  0.1242857  -0.17520848]]\n"
     ]
    }
   ],
   "source": [
    "modelo = onnx.load(\"models/model.onnx\")\n",
    "outs=extract_inter_output_onnx(modelo,np.ones(s,dtype = np.float32))\n",
    "print(outs['5'])"
   ]
  },
  {
   "cell_type": "code",
   "execution_count": 113,
   "id": "b8a2b26f",
   "metadata": {
    "scrolled": true
   },
   "outputs": [
    {
     "name": "stdout",
     "output_type": "stream",
     "text": [
      "input: \"input.1\"\n",
      "output: \"2\"\n",
      "name: \"LeakyRelu_0\"\n",
      "op_type: \"LeakyRelu\"\n",
      "attribute {\n",
      "  name: \"alpha\"\n",
      "  f: 2.014422655105591\n",
      "  type: FLOAT\n",
      "}\n",
      "\n",
      "input: \"2\"\n",
      "output: \"3\"\n",
      "name: \"Flatten_1\"\n",
      "op_type: \"Flatten\"\n",
      "attribute {\n",
      "  name: \"axis\"\n",
      "  i: 1\n",
      "  type: INT\n",
      "}\n",
      "\n",
      "input: \"3\"\n",
      "input: \"8\"\n",
      "output: \"5\"\n",
      "name: \"MatMul_2\"\n",
      "op_type: \"MatMul\"\n",
      "\n",
      "output: \"6\"\n",
      "name: \"Constant_3\"\n",
      "op_type: \"Constant\"\n",
      "attribute {\n",
      "  name: \"value\"\n",
      "  t {\n",
      "    dims: 3\n",
      "    data_type: 7\n",
      "    raw_data: \"\\377\\377\\377\\377\\377\\377\\377\\377\\003\\000\\000\\000\\000\\000\\000\\000\\004\\000\\000\\000\\000\\000\\000\\000\"\n",
      "  }\n",
      "  type: TENSOR\n",
      "}\n",
      "\n",
      "input: \"5\"\n",
      "input: \"6\"\n",
      "output: \"7\"\n",
      "name: \"Reshape_4\"\n",
      "op_type: \"Reshape\"\n",
      "\n"
     ]
    }
   ],
   "source": [
    "for node in modelo.graph.node:\n",
    "#     for k in range(len(node.output)):\n",
    "#         node.output[k]=node.name\n",
    "    print(node)"
   ]
  },
  {
   "cell_type": "code",
   "execution_count": 14,
   "id": "bc1c0ffe",
   "metadata": {},
   "outputs": [
    {
     "name": "stdout",
     "output_type": "stream",
     "text": [
      "{'torch_nn_layers.1': array([[[[1., 1., 1., ..., 1., 1., 1.],\n",
      "         [1., 1., 1., ..., 1., 1., 1.],\n",
      "         [1., 1., 1., ..., 1., 1., 1.],\n",
      "         ...,\n",
      "         [1., 1., 1., ..., 1., 1., 1.],\n",
      "         [1., 1., 1., ..., 1., 1., 1.],\n",
      "         [1., 1., 1., ..., 1., 1., 1.]],\n",
      "\n",
      "        [[1., 1., 1., ..., 1., 1., 1.],\n",
      "         [1., 1., 1., ..., 1., 1., 1.],\n",
      "         [1., 1., 1., ..., 1., 1., 1.],\n",
      "         ...,\n",
      "         [1., 1., 1., ..., 1., 1., 1.],\n",
      "         [1., 1., 1., ..., 1., 1., 1.],\n",
      "         [1., 1., 1., ..., 1., 1., 1.]],\n",
      "\n",
      "        [[1., 1., 1., ..., 1., 1., 1.],\n",
      "         [1., 1., 1., ..., 1., 1., 1.],\n",
      "         [1., 1., 1., ..., 1., 1., 1.],\n",
      "         ...,\n",
      "         [1., 1., 1., ..., 1., 1., 1.],\n",
      "         [1., 1., 1., ..., 1., 1., 1.],\n",
      "         [1., 1., 1., ..., 1., 1., 1.]],\n",
      "\n",
      "        ...,\n",
      "\n",
      "        [[1., 1., 1., ..., 1., 1., 1.],\n",
      "         [1., 1., 1., ..., 1., 1., 1.],\n",
      "         [1., 1., 1., ..., 1., 1., 1.],\n",
      "         ...,\n",
      "         [1., 1., 1., ..., 1., 1., 1.],\n",
      "         [1., 1., 1., ..., 1., 1., 1.],\n",
      "         [1., 1., 1., ..., 1., 1., 1.]],\n",
      "\n",
      "        [[1., 1., 1., ..., 1., 1., 1.],\n",
      "         [1., 1., 1., ..., 1., 1., 1.],\n",
      "         [1., 1., 1., ..., 1., 1., 1.],\n",
      "         ...,\n",
      "         [1., 1., 1., ..., 1., 1., 1.],\n",
      "         [1., 1., 1., ..., 1., 1., 1.],\n",
      "         [1., 1., 1., ..., 1., 1., 1.]],\n",
      "\n",
      "        [[1., 1., 1., ..., 1., 1., 1.],\n",
      "         [1., 1., 1., ..., 1., 1., 1.],\n",
      "         [1., 1., 1., ..., 1., 1., 1.],\n",
      "         ...,\n",
      "         [1., 1., 1., ..., 1., 1., 1.],\n",
      "         [1., 1., 1., ..., 1., 1., 1.],\n",
      "         [1., 1., 1., ..., 1., 1., 1.]]]], dtype=float32), 'torch_nn_layers.2': array([[1., 1., 1., ..., 1., 1., 1.]], dtype=float32), 'torch_nn_layers.3': array([[-0.2713296 , -0.2823413 , -0.54092646,  0.0728095 , -0.7117165 ,\n",
      "         0.00376958,  0.28965333,  0.09576814,  0.15108593,  0.78623617,\n",
      "         0.12206877,  0.19581565]], dtype=float32)}\n"
     ]
    }
   ],
   "source": [
    "%run ./comparator.py"
   ]
  },
  {
   "cell_type": "code",
   "execution_count": 5,
   "id": "73bb3f9f",
   "metadata": {},
   "outputs": [
    {
     "name": "stdout",
     "output_type": "stream",
     "text": [
      "dict_keys([1, 2, 0])\n"
     ]
    }
   ],
   "source": [
    "print({1:2,2:3,0:3}.keys())"
   ]
  },
  {
   "cell_type": "code",
   "execution_count": null,
   "id": "92bb5fef",
   "metadata": {},
   "outputs": [],
   "source": []
  }
 ],
 "metadata": {
  "kernelspec": {
   "display_name": "Python 3",
   "language": "python",
   "name": "python3"
  },
  "language_info": {
   "codemirror_mode": {
    "name": "ipython",
    "version": 3
   },
   "file_extension": ".py",
   "mimetype": "text/x-python",
   "name": "python",
   "nbconvert_exporter": "python",
   "pygments_lexer": "ipython3",
   "version": "3.8.8"
  }
 },
 "nbformat": 4,
 "nbformat_minor": 5
}
